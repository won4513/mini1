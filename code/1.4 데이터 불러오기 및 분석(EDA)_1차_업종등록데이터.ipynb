{
 "cells": [
  {
   "cell_type": "markdown",
   "id": "boxed-jamaica",
   "metadata": {},
   "source": [
    "# 안녕하세요^^ \n",
    "## AIVLE 미니프로젝트 '서울시 생활정보 기반 대중교통 수요 분석 ' 과정에 오신 여러분을 환영합니다.\n",
    "* 본 과정에서는 실제 사례와 데이터를 기반으로 문제를 해결하는 전체 과정을 자기 주도형 실습으로 진행해볼 예정입니다.\n",
    "* 앞선 교육과정을 정리하는 마음과 지금까지 배운 내용을 바탕으로 문제 해결을 해볼게요!\n",
    "* 미니 프로젝트를 통한 문제 해결 과정 'A에서 Z까지', 지금부터 시작합니다!\n",
    "\n",
    "## 개인과제\n",
    "* 데이터 구조, 분포 확인, 전처리 : 1.1_버스정류장데이터 / 1.2 유동인구데이터 / 1.3_주민등록데이터 / 1.4_업종등록데이터\n",
    "* 데이터간 관계 가설 수립 및 검증 : 1.5_데이터 분석"
   ]
  },
  {
   "cell_type": "markdown",
   "id": "ef575059",
   "metadata": {},
   "source": [
    "---"
   ]
  },
  {
   "cell_type": "markdown",
   "id": "f2bc4fa5",
   "metadata": {},
   "source": [
    "# 데이터 분석부터 먼저 시작해보겠습니다.\n",
    "## \"구별 업종 등록 데이터\" 를 확인해 보도록 하겠습니다"
   ]
  },
  {
   "cell_type": "code",
   "execution_count": null,
   "id": "4c6ced42",
   "metadata": {},
   "outputs": [],
   "source": [
    "# 필요 라이브러리부터 설치합니다.\n",
    "%pip install pandas seaborn"
   ]
  },
  {
   "cell_type": "markdown",
   "id": "revolutionary-farmer",
   "metadata": {},
   "source": [
    "## 기본전제\n",
    "* 처음에 제공되는 기본/추가 데이터는 'raw_data' 폴더에 있습니다.\n",
    "\n",
    "[기본 데이터]\n",
    "* business_type.csv\n",
    "\n",
    "[데이터 소개]\n",
    "* 서울 시 구별 등록 업종 상위 10개 데이터\n",
    "    * 택시운송업\n",
    "    * 한식일반음식점업\n",
    "    * 용달 화물자동차 운송업\n",
    "    * 부동산 중개 및 대리업\n",
    "    * 두발미용업\n",
    "    * 커피전문점\n",
    "    * 남녀용 겉옷 및 셔츠 도매업\n",
    "    * 기타주점업\n",
    "    * 일반 교과 학원\n",
    "    * 한식 육류요리 전문점\n",
    "\n",
    "[변수 소개]\n",
    "* 다수 업종 상위 1~10"
   ]
  },
  {
   "cell_type": "markdown",
   "id": "matched-broad",
   "metadata": {},
   "source": [
    "---"
   ]
  },
  {
   "cell_type": "markdown",
   "id": "warming-gentleman",
   "metadata": {},
   "source": [
    "# 1.데이터 불러오기\n",
    "## 모든 미니 프로젝트의 시작은 '데이터 불러오기' 부터라고 할 수 있습니다.\n",
    "+ KeyPoint : 불러오고자 하는 데이터에 따라 자유롭게 변수로 지정할 수 있다."
   ]
  },
  {
   "cell_type": "markdown",
   "id": "measured-administration",
   "metadata": {},
   "source": [
    "###  데이터 프레임을 불러오고 변수로 저장(여기서는 CSV 기준으로 진행)\n",
    "* csv : pd.read_csv(\"파일이름. csv\")\n",
    "* txt : pd.read_csv(\"파일이름. csv\", sep=\"구분자\")\n",
    "* xlsx : pd.read_excel('파일이름.xlsx')\n",
    "* pickle : pd.read_pickle(\"파일이름.pkl\") <br>\n",
    " [참고] pickle은 파이썬의 모든 객체를 파일로 저장할 수 있는 방법으로 DataFrame,List,Dict 등 모든 객체 저장 가능(특히 sklearn라이브러리를 통해 모델을 학습시키고, 저장할 때 많이 사용)"
   ]
  },
  {
   "cell_type": "markdown",
   "id": "340abcda",
   "metadata": {},
   "source": [
    "## 기본전제\n",
    "* 처음에 제공되는 데이터는 'raw_data' 폴더에 있습니다.\n",
    "\n",
    "[기본 데이터]\n",
    "* 1.4 business_type.csv\n",
    "\n",
    "[데이터 소개]\n",
    "* 서울시 업종 등록 데이터"
   ]
  },
  {
   "cell_type": "markdown",
   "id": "vocational-animal",
   "metadata": {},
   "source": [
    "#### [실습문제1] 데이터 로딩\n",
    "* '1.4 business_type.csv'파일을 'seoul_business' 변수에 저장하고 그 데이터를 확인하세요.\n",
    "    * 데이터 파일 로딩시 참고 사항 \n",
    "        * 구분자(sep)는 ',' 입니다\n",
    "        * UTF-8 인코더를 사용해 주세요"
   ]
  },
  {
   "cell_type": "code",
   "execution_count": 1,
   "id": "saving-slope",
   "metadata": {},
   "outputs": [],
   "source": [
    "# 아래에 실습코드를 작성하고 결과를 확인합니다.\n",
    "import pandas as pd\n"
   ]
  },
  {
   "cell_type": "code",
   "execution_count": 111,
   "id": "funny-subcommittee",
   "metadata": {},
   "outputs": [],
   "source": [
    "# 데이터 프레임의 Shape을 확인합니다.\n",
    "seoul_business = pd.read_csv('C:/Users/User/Desktop/mini1/AIVLE/1.4 business_type.csv',sep = ',', encoding = 'UTF-8')"
   ]
  },
  {
   "cell_type": "markdown",
   "id": "73396b42",
   "metadata": {},
   "source": [
    "---"
   ]
  },
  {
   "cell_type": "code",
   "execution_count": null,
   "id": "ba126229",
   "metadata": {},
   "outputs": [],
   "source": []
  },
  {
   "cell_type": "markdown",
   "id": "annoying-trout",
   "metadata": {},
   "source": [
    "# 2.기본 정보 확인 및 클렌징\n",
    "\n",
    "+ 데이터 클렌징 : 결측치, 이상치 등을 제거하여 데이터 분석 결과가 왜곡 되는 문제를 방지하기 위한 정제 과정"
   ]
  },
  {
   "cell_type": "markdown",
   "id": "romantic-johnson",
   "metadata": {},
   "source": [
    "#### [실습문제2] 기본 정보 확인하기\n",
    "* 'seoul_moving' 데이터의 정보를 확인해보세요.\n",
    "* 'describe', 'info', 'head' 등 전부 활용해 보겠습니다."
   ]
  },
  {
   "cell_type": "code",
   "execution_count": 107,
   "id": "demographic-battery",
   "metadata": {},
   "outputs": [
    {
     "data": {
      "text/html": [
       "<div>\n",
       "<style scoped>\n",
       "    .dataframe tbody tr th:only-of-type {\n",
       "        vertical-align: middle;\n",
       "    }\n",
       "\n",
       "    .dataframe tbody tr th {\n",
       "        vertical-align: top;\n",
       "    }\n",
       "\n",
       "    .dataframe thead th {\n",
       "        text-align: right;\n",
       "    }\n",
       "</style>\n",
       "<table border=\"1\" class=\"dataframe\">\n",
       "  <thead>\n",
       "    <tr style=\"text-align: right;\">\n",
       "      <th></th>\n",
       "      <th>자치구</th>\n",
       "      <th>동</th>\n",
       "      <th>다수업종 상위10</th>\n",
       "      <th>다수업종 상위10.1</th>\n",
       "      <th>다수업종 상위10.2</th>\n",
       "      <th>다수업종 상위10.3</th>\n",
       "      <th>다수업종 상위10.4</th>\n",
       "      <th>다수업종 상위10.5</th>\n",
       "      <th>다수업종 상위10.6</th>\n",
       "      <th>다수업종 상위10.7</th>\n",
       "      <th>...</th>\n",
       "      <th>다수업종 상위10.10</th>\n",
       "      <th>다수업종 상위10.11</th>\n",
       "      <th>다수업종 상위10.12</th>\n",
       "      <th>다수업종 상위10.13</th>\n",
       "      <th>다수업종 상위10.14</th>\n",
       "      <th>다수업종 상위10.15</th>\n",
       "      <th>다수업종 상위10.16</th>\n",
       "      <th>다수업종 상위10.17</th>\n",
       "      <th>다수업종 상위10.18</th>\n",
       "      <th>다수업종 상위10.19</th>\n",
       "    </tr>\n",
       "  </thead>\n",
       "  <tbody>\n",
       "    <tr>\n",
       "      <th>count</th>\n",
       "      <td>451</td>\n",
       "      <td>451</td>\n",
       "      <td>451</td>\n",
       "      <td>451</td>\n",
       "      <td>451</td>\n",
       "      <td>451</td>\n",
       "      <td>451</td>\n",
       "      <td>451</td>\n",
       "      <td>451</td>\n",
       "      <td>451</td>\n",
       "      <td>...</td>\n",
       "      <td>451</td>\n",
       "      <td>451</td>\n",
       "      <td>451</td>\n",
       "      <td>451</td>\n",
       "      <td>451</td>\n",
       "      <td>451</td>\n",
       "      <td>451</td>\n",
       "      <td>451</td>\n",
       "      <td>451</td>\n",
       "      <td>451</td>\n",
       "    </tr>\n",
       "    <tr>\n",
       "      <th>unique</th>\n",
       "      <td>27</td>\n",
       "      <td>425</td>\n",
       "      <td>226</td>\n",
       "      <td>280</td>\n",
       "      <td>176</td>\n",
       "      <td>305</td>\n",
       "      <td>177</td>\n",
       "      <td>180</td>\n",
       "      <td>142</td>\n",
       "      <td>205</td>\n",
       "      <td>...</td>\n",
       "      <td>131</td>\n",
       "      <td>239</td>\n",
       "      <td>69</td>\n",
       "      <td>147</td>\n",
       "      <td>127</td>\n",
       "      <td>189</td>\n",
       "      <td>113</td>\n",
       "      <td>222</td>\n",
       "      <td>107</td>\n",
       "      <td>230</td>\n",
       "    </tr>\n",
       "    <tr>\n",
       "      <th>top</th>\n",
       "      <td>송파구</td>\n",
       "      <td>소계</td>\n",
       "      <td>71</td>\n",
       "      <td>11</td>\n",
       "      <td>24</td>\n",
       "      <td>104</td>\n",
       "      <td>56</td>\n",
       "      <td>56</td>\n",
       "      <td>40</td>\n",
       "      <td>54</td>\n",
       "      <td>...</td>\n",
       "      <td>13</td>\n",
       "      <td>16</td>\n",
       "      <td>-</td>\n",
       "      <td>-</td>\n",
       "      <td>18</td>\n",
       "      <td>20</td>\n",
       "      <td>4</td>\n",
       "      <td>42</td>\n",
       "      <td>17</td>\n",
       "      <td>45</td>\n",
       "    </tr>\n",
       "    <tr>\n",
       "      <th>freq</th>\n",
       "      <td>28</td>\n",
       "      <td>25</td>\n",
       "      <td>7</td>\n",
       "      <td>7</td>\n",
       "      <td>11</td>\n",
       "      <td>6</td>\n",
       "      <td>8</td>\n",
       "      <td>9</td>\n",
       "      <td>11</td>\n",
       "      <td>9</td>\n",
       "      <td>...</td>\n",
       "      <td>18</td>\n",
       "      <td>8</td>\n",
       "      <td>82</td>\n",
       "      <td>82</td>\n",
       "      <td>14</td>\n",
       "      <td>10</td>\n",
       "      <td>15</td>\n",
       "      <td>10</td>\n",
       "      <td>16</td>\n",
       "      <td>9</td>\n",
       "    </tr>\n",
       "  </tbody>\n",
       "</table>\n",
       "<p>4 rows × 22 columns</p>\n",
       "</div>"
      ],
      "text/plain": [
       "        자치구    동 다수업종 상위10 다수업종 상위10.1 다수업종 상위10.2 다수업종 상위10.3 다수업종 상위10.4  \\\n",
       "count   451  451       451         451         451         451         451   \n",
       "unique   27  425       226         280         176         305         177   \n",
       "top     송파구   소계        71          11          24         104          56   \n",
       "freq     28   25         7           7          11           6           8   \n",
       "\n",
       "       다수업종 상위10.5 다수업종 상위10.6 다수업종 상위10.7  ... 다수업종 상위10.10 다수업종 상위10.11  \\\n",
       "count          451         451         451  ...          451          451   \n",
       "unique         180         142         205  ...          131          239   \n",
       "top             56          40          54  ...           13           16   \n",
       "freq             9          11           9  ...           18            8   \n",
       "\n",
       "       다수업종 상위10.12 다수업종 상위10.13 다수업종 상위10.14 다수업종 상위10.15 다수업종 상위10.16  \\\n",
       "count           451          451          451          451          451   \n",
       "unique           69          147          127          189          113   \n",
       "top               -            -           18           20            4   \n",
       "freq             82           82           14           10           15   \n",
       "\n",
       "       다수업종 상위10.17 다수업종 상위10.18 다수업종 상위10.19  \n",
       "count           451          451          451  \n",
       "unique          222          107          230  \n",
       "top              42           17           45  \n",
       "freq             10           16            9  \n",
       "\n",
       "[4 rows x 22 columns]"
      ]
     },
     "execution_count": 107,
     "metadata": {},
     "output_type": "execute_result"
    }
   ],
   "source": [
    "# 아래에 실습코드를 작성하고 결과를 확인합니다.\n",
    "seoul_business.describe()"
   ]
  },
  {
   "cell_type": "code",
   "execution_count": 113,
   "id": "08f77c29",
   "metadata": {},
   "outputs": [],
   "source": [
    "seoul_business.columns = seoul_business.loc[0] + seoul_business.loc[1]"
   ]
  },
  {
   "cell_type": "code",
   "execution_count": 115,
   "id": "c8f72ba3",
   "metadata": {},
   "outputs": [],
   "source": [
    "seoul_business.rename(columns = {'자치구자치구':'자치구','동동':'동'}, inplace = True)"
   ]
  },
  {
   "cell_type": "code",
   "execution_count": 116,
   "id": "192f1c3b",
   "metadata": {},
   "outputs": [
    {
     "data": {
      "text/html": [
       "<div>\n",
       "<style scoped>\n",
       "    .dataframe tbody tr th:only-of-type {\n",
       "        vertical-align: middle;\n",
       "    }\n",
       "\n",
       "    .dataframe tbody tr th {\n",
       "        vertical-align: top;\n",
       "    }\n",
       "\n",
       "    .dataframe thead th {\n",
       "        text-align: right;\n",
       "    }\n",
       "</style>\n",
       "<table border=\"1\" class=\"dataframe\">\n",
       "  <thead>\n",
       "    <tr style=\"text-align: right;\">\n",
       "      <th></th>\n",
       "      <th>자치구</th>\n",
       "      <th>동</th>\n",
       "      <th>택시운송업사업체수</th>\n",
       "      <th>택시운송업종사자수</th>\n",
       "      <th>한식 일반 음식점업사업체수</th>\n",
       "      <th>한식 일반 음식점업종사자수</th>\n",
       "      <th>용달 화물자동차 운송업사업체수</th>\n",
       "      <th>용달 화물자동차 운송업종사자수</th>\n",
       "      <th>부동산 중개 및 대리업사업체수</th>\n",
       "      <th>부동산 중개 및 대리업종사자수</th>\n",
       "      <th>...</th>\n",
       "      <th>커피전문점사업체수</th>\n",
       "      <th>커피전문점종사자수</th>\n",
       "      <th>남녀용 겉옷 및 셔츠 도매업사업체수</th>\n",
       "      <th>남녀용 겉옷 및 셔츠 도매업종사자수</th>\n",
       "      <th>기타주점업사업체수</th>\n",
       "      <th>기타주점업종사자수</th>\n",
       "      <th>일반 교과 학원사업체수</th>\n",
       "      <th>일반 교과 학원종사자수</th>\n",
       "      <th>한식 육류요리 전문점사업체수</th>\n",
       "      <th>한식 육류요리 전문점종사자수</th>\n",
       "    </tr>\n",
       "  </thead>\n",
       "  <tbody>\n",
       "    <tr>\n",
       "      <th>0</th>\n",
       "      <td>자치구</td>\n",
       "      <td>동</td>\n",
       "      <td>택시운송업</td>\n",
       "      <td>택시운송업</td>\n",
       "      <td>한식 일반 음식점업</td>\n",
       "      <td>한식 일반 음식점업</td>\n",
       "      <td>용달 화물자동차 운송업</td>\n",
       "      <td>용달 화물자동차 운송업</td>\n",
       "      <td>부동산 중개 및 대리업</td>\n",
       "      <td>부동산 중개 및 대리업</td>\n",
       "      <td>...</td>\n",
       "      <td>커피전문점</td>\n",
       "      <td>커피전문점</td>\n",
       "      <td>남녀용 겉옷 및 셔츠 도매업</td>\n",
       "      <td>남녀용 겉옷 및 셔츠 도매업</td>\n",
       "      <td>기타주점업</td>\n",
       "      <td>기타주점업</td>\n",
       "      <td>일반 교과 학원</td>\n",
       "      <td>일반 교과 학원</td>\n",
       "      <td>한식 육류요리 전문점</td>\n",
       "      <td>한식 육류요리 전문점</td>\n",
       "    </tr>\n",
       "    <tr>\n",
       "      <th>1</th>\n",
       "      <td>자치구</td>\n",
       "      <td>동</td>\n",
       "      <td>사업체수</td>\n",
       "      <td>종사자수</td>\n",
       "      <td>사업체수</td>\n",
       "      <td>종사자수</td>\n",
       "      <td>사업체수</td>\n",
       "      <td>종사자수</td>\n",
       "      <td>사업체수</td>\n",
       "      <td>종사자수</td>\n",
       "      <td>...</td>\n",
       "      <td>사업체수</td>\n",
       "      <td>종사자수</td>\n",
       "      <td>사업체수</td>\n",
       "      <td>종사자수</td>\n",
       "      <td>사업체수</td>\n",
       "      <td>종사자수</td>\n",
       "      <td>사업체수</td>\n",
       "      <td>종사자수</td>\n",
       "      <td>사업체수</td>\n",
       "      <td>종사자수</td>\n",
       "    </tr>\n",
       "    <tr>\n",
       "      <th>2</th>\n",
       "      <td>합계</td>\n",
       "      <td>합계</td>\n",
       "      <td>47,176</td>\n",
       "      <td>76,701</td>\n",
       "      <td>29,225</td>\n",
       "      <td>100,183</td>\n",
       "      <td>28,494</td>\n",
       "      <td>29,356</td>\n",
       "      <td>24,013</td>\n",
       "      <td>42,636</td>\n",
       "      <td>...</td>\n",
       "      <td>16,255</td>\n",
       "      <td>57,322</td>\n",
       "      <td>13,388</td>\n",
       "      <td>51,116</td>\n",
       "      <td>13,339</td>\n",
       "      <td>31,371</td>\n",
       "      <td>11,911</td>\n",
       "      <td>50,773</td>\n",
       "      <td>11,109</td>\n",
       "      <td>44,653</td>\n",
       "    </tr>\n",
       "    <tr>\n",
       "      <th>3</th>\n",
       "      <td>종로구</td>\n",
       "      <td>소계</td>\n",
       "      <td>215</td>\n",
       "      <td>215</td>\n",
       "      <td>1,548</td>\n",
       "      <td>5,912</td>\n",
       "      <td>618</td>\n",
       "      <td>646</td>\n",
       "      <td>549</td>\n",
       "      <td>889</td>\n",
       "      <td>...</td>\n",
       "      <td>948</td>\n",
       "      <td>3,613</td>\n",
       "      <td>400</td>\n",
       "      <td>962</td>\n",
       "      <td>537</td>\n",
       "      <td>1,413</td>\n",
       "      <td>110</td>\n",
       "      <td>382</td>\n",
       "      <td>437</td>\n",
       "      <td>1,982</td>\n",
       "    </tr>\n",
       "    <tr>\n",
       "      <th>4</th>\n",
       "      <td>종로구</td>\n",
       "      <td>사직동</td>\n",
       "      <td>7</td>\n",
       "      <td>7</td>\n",
       "      <td>230</td>\n",
       "      <td>982</td>\n",
       "      <td>12</td>\n",
       "      <td>12</td>\n",
       "      <td>57</td>\n",
       "      <td>96</td>\n",
       "      <td>...</td>\n",
       "      <td>124</td>\n",
       "      <td>525</td>\n",
       "      <td>2</td>\n",
       "      <td>18</td>\n",
       "      <td>74</td>\n",
       "      <td>177</td>\n",
       "      <td>9</td>\n",
       "      <td>34</td>\n",
       "      <td>45</td>\n",
       "      <td>220</td>\n",
       "    </tr>\n",
       "  </tbody>\n",
       "</table>\n",
       "<p>5 rows × 22 columns</p>\n",
       "</div>"
      ],
      "text/plain": [
       "   자치구    동 택시운송업사업체수 택시운송업종사자수 한식 일반 음식점업사업체수 한식 일반 음식점업종사자수  \\\n",
       "0  자치구    동     택시운송업     택시운송업     한식 일반 음식점업     한식 일반 음식점업   \n",
       "1  자치구    동      사업체수      종사자수           사업체수           종사자수   \n",
       "2   합계   합계    47,176    76,701         29,225        100,183   \n",
       "3  종로구   소계       215       215          1,548          5,912   \n",
       "4  종로구  사직동         7         7            230            982   \n",
       "\n",
       "  용달 화물자동차 운송업사업체수 용달 화물자동차 운송업종사자수 부동산 중개 및 대리업사업체수 부동산 중개 및 대리업종사자수  ...  \\\n",
       "0     용달 화물자동차 운송업     용달 화물자동차 운송업     부동산 중개 및 대리업     부동산 중개 및 대리업  ...   \n",
       "1             사업체수             종사자수             사업체수             종사자수  ...   \n",
       "2           28,494           29,356           24,013           42,636  ...   \n",
       "3              618              646              549              889  ...   \n",
       "4               12               12               57               96  ...   \n",
       "\n",
       "  커피전문점사업체수 커피전문점종사자수 남녀용 겉옷 및 셔츠 도매업사업체수 남녀용 겉옷 및 셔츠 도매업종사자수 기타주점업사업체수  \\\n",
       "0     커피전문점     커피전문점     남녀용 겉옷 및 셔츠 도매업     남녀용 겉옷 및 셔츠 도매업     기타주점업   \n",
       "1      사업체수      종사자수                사업체수                종사자수      사업체수   \n",
       "2    16,255    57,322              13,388              51,116    13,339   \n",
       "3       948     3,613                 400                 962       537   \n",
       "4       124       525                   2                  18        74   \n",
       "\n",
       "  기타주점업종사자수 일반 교과 학원사업체수 일반 교과 학원종사자수 한식 육류요리 전문점사업체수 한식 육류요리 전문점종사자수  \n",
       "0     기타주점업     일반 교과 학원     일반 교과 학원     한식 육류요리 전문점     한식 육류요리 전문점  \n",
       "1      종사자수         사업체수         종사자수            사업체수            종사자수  \n",
       "2    31,371       11,911       50,773          11,109          44,653  \n",
       "3     1,413          110          382             437           1,982  \n",
       "4       177            9           34              45             220  \n",
       "\n",
       "[5 rows x 22 columns]"
      ]
     },
     "execution_count": 116,
     "metadata": {},
     "output_type": "execute_result"
    }
   ],
   "source": [
    "seoul_business.head()"
   ]
  },
  {
   "cell_type": "code",
   "execution_count": 117,
   "id": "9308f31b",
   "metadata": {},
   "outputs": [],
   "source": [
    "seoul_business = seoul_business.loc[3:]\n",
    "seoul_business = seoul_business[seoul_business['동'] == '소계']\n",
    "seoul_business.replace(\"-\",\"0\", inplace=True)"
   ]
  },
  {
   "cell_type": "code",
   "execution_count": 104,
   "id": "940a114a",
   "metadata": {},
   "outputs": [],
   "source": [
    "# 아래에 실습코드를 작성하고 결과를 확인합니다.\n",
    "\n",
    "seoul_business = seoul_business[['자치구','택시운송업사업체수','커피전문점사업체수','한식 일반 음식점업사업체수','기타주점업사업체수']]"
   ]
  },
  {
   "cell_type": "markdown",
   "id": "003322b3",
   "metadata": {},
   "source": [
    "#### [실습문제3] 데이터 확인 및 처리\n",
    "\n",
    "* 데이터를 보았을때, 어느 데이터를 가져와야 할지 생각 해 봅시다."
   ]
  },
  {
   "cell_type": "code",
   "execution_count": null,
   "id": "aceaca60",
   "metadata": {},
   "outputs": [],
   "source": [
    "# 아래에 실습코드를 작성하고 결과를 확인합니다."
   ]
  },
  {
   "cell_type": "code",
   "execution_count": null,
   "id": "7265730a",
   "metadata": {},
   "outputs": [],
   "source": [
    "# 아래에 실습코드를 작성하고 결과를 확인합니다.\n"
   ]
  },
  {
   "cell_type": "code",
   "execution_count": null,
   "id": "6c89f8e6",
   "metadata": {},
   "outputs": [],
   "source": [
    "# 아래에 실습코드를 작성하고 결과를 확인합니다."
   ]
  },
  {
   "cell_type": "code",
   "execution_count": 105,
   "id": "39eb59e7",
   "metadata": {},
   "outputs": [],
   "source": [
    "# 해당 데이터프레임을 'df_seoul_business.csv' 파일로 저장하세요.\n",
    "\n",
    "seoul_business.to_csv('C:/Users/User/Desktop/mini1/AIVLE/df_seoul_business.csv')"
   ]
  },
  {
   "cell_type": "markdown",
   "id": "602b8bae",
   "metadata": {},
   "source": [
    "---"
   ]
  },
  {
   "cell_type": "markdown",
   "id": "southeast-integration",
   "metadata": {},
   "source": [
    "# 3.데이터 분석하기\n",
    "+ KeyPoint : 데이터의 형태를 살펴보고 다양한 분석기법을 통해 모델링에 적합하도록 정제요소를 선별할 수 있다.\n",
    "  * 데이터들의 패턴 탐색\n",
    "  * 변수들간의 관계 파악"
   ]
  },
  {
   "cell_type": "code",
   "execution_count": 60,
   "id": "194ae01d",
   "metadata": {},
   "outputs": [],
   "source": [
    "import seaborn as sns\n",
    "import matplotlib.pyplot as plt\n",
    "\n",
    "# 시각화 한글폰트 설정\n",
    "# 맑은 고딕\n",
    "\n",
    "plt.rc('font', family='Malgun Gothic')\n",
    "sns.set(font=\"Malgun Gothic\",#\"NanumGothicCoding\", \n",
    "        rc={\"axes.unicode_minus\":False}, # 마이너스 부호 깨짐 현상 해결\n",
    "        style='darkgrid')\n",
    "\n",
    "# scipy\n",
    "import scipy.stats as spst"
   ]
  },
  {
   "cell_type": "markdown",
   "id": "material-complex",
   "metadata": {},
   "source": [
    "#### [실습문제4] 데이터 분포 알아보기\n",
    "* 다양한 변수를 기준으로 그래프를 그려보고 인사이트를 도출해보세요."
   ]
  },
  {
   "cell_type": "code",
   "execution_count": 63,
   "id": "9d06d9d0",
   "metadata": {},
   "outputs": [
    {
     "data": {
      "text/plain": [
       "Index(['자치구', '동', '택시운송업사업체수', '택시운송업종사자수', '한식 일반 음식점업사업체수',\n",
       "       '한식 일반 음식점업종사자수', '용달 화물자동차 운송업사업체수', '용달 화물자동차 운송업종사자수',\n",
       "       '부동산 중개 및 대리업사업체수', '부동산 중개 및 대리업종사자수', '두발미용업사업체수', '두발미용업종사자수',\n",
       "       '커피전문점사업체수', '커피전문점종사자수', '남녀용 겉옷 및 셔츠 도매업사업체수', '남녀용 겉옷 및 셔츠 도매업종사자수',\n",
       "       '기타주점업사업체수', '기타주점업종사자수', '일반 교과 학원사업체수', '일반 교과 학원종사자수',\n",
       "       '한식 육류요리 전문점사업체수', '한식 육류요리 전문점종사자수'],\n",
       "      dtype='object')"
      ]
     },
     "execution_count": 63,
     "metadata": {},
     "output_type": "execute_result"
    }
   ],
   "source": [
    "seoul_business.columns"
   ]
  },
  {
   "cell_type": "code",
   "execution_count": 88,
   "id": "e55696af",
   "metadata": {},
   "outputs": [],
   "source": [
    "for i in seoul_business.columns[2:]:\n",
    "    seoul_business[i] = seoul_business[i].str.replace(',','').astype(int)"
   ]
  },
  {
   "cell_type": "code",
   "execution_count": 93,
   "id": "2a610ade",
   "metadata": {},
   "outputs": [
    {
     "name": "stderr",
     "output_type": "stream",
     "text": [
      "c:\\Users\\User\\anaconda3\\lib\\site-packages\\seaborn\\_decorators.py:36: FutureWarning: Pass the following variables as keyword args: x, y. From version 0.12, the only valid positional argument will be `data`, and passing other arguments without an explicit keyword will result in an error or misinterpretation.\n",
      "  warnings.warn(\n"
     ]
    },
    {
     "data": {
      "text/plain": [
       "<AxesSubplot:xlabel='자치구', ylabel='택시운송업사업체수'>"
      ]
     },
     "execution_count": 93,
     "metadata": {},
     "output_type": "execute_result"
    },
    {
     "data": {
      "image/png": "[encoded data removed]",
      "text/plain": [
       "<Figure size 2000x400 with 1 Axes>"
      ]
     },
     "metadata": {},
     "output_type": "display_data"
    }
   ],
   "source": [
    "# 아래에 실습코드를 작성하고 결과를 확인합니다.\n",
    "plt.figure(figsize = (20,4))\n",
    "sns.barplot('자치구','택시운송업사업체수', data = seoul_business)"
   ]
  },
  {
   "cell_type": "code",
   "execution_count": 95,
   "id": "ce0af14b",
   "metadata": {},
   "outputs": [
    {
     "name": "stderr",
     "output_type": "stream",
     "text": [
      "c:\\Users\\User\\anaconda3\\lib\\site-packages\\seaborn\\_decorators.py:36: FutureWarning: Pass the following variables as keyword args: x, y. From version 0.12, the only valid positional argument will be `data`, and passing other arguments without an explicit keyword will result in an error or misinterpretation.\n",
      "  warnings.warn(\n"
     ]
    },
    {
     "data": {
      "text/plain": [
       "<AxesSubplot:xlabel='자치구', ylabel='커피전문점사업체수'>"
      ]
     },
     "execution_count": 95,
     "metadata": {},
     "output_type": "execute_result"
    },
    {
     "data": {
      "image/png": "[encoded data removed]",
      "text/plain": [
       "<Figure size 2000x400 with 1 Axes>"
      ]
     },
     "metadata": {},
     "output_type": "display_data"
    }
   ],
   "source": [
    "# 아래에 실습코드를 작성하고 결과를 확인합니다.\n",
    "plt.figure(figsize = (20,4))\n",
    "sns.barplot('자치구','커피전문점사업체수', data = seoul_business)"
   ]
  },
  {
   "cell_type": "code",
   "execution_count": 96,
   "id": "8cc4598f",
   "metadata": {},
   "outputs": [
    {
     "name": "stderr",
     "output_type": "stream",
     "text": [
      "c:\\Users\\User\\anaconda3\\lib\\site-packages\\seaborn\\_decorators.py:36: FutureWarning: Pass the following variables as keyword args: x, y. From version 0.12, the only valid positional argument will be `data`, and passing other arguments without an explicit keyword will result in an error or misinterpretation.\n",
      "  warnings.warn(\n"
     ]
    },
    {
     "data": {
      "text/plain": [
       "<AxesSubplot:xlabel='자치구', ylabel='한식 일반 음식점업사업체수'>"
      ]
     },
     "execution_count": 96,
     "metadata": {},
     "output_type": "execute_result"
    },
    {
     "data": {
      "image/png": "[encoded data removed]",
      "text/plain": [
       "<Figure size 2000x400 with 1 Axes>"
      ]
     },
     "metadata": {},
     "output_type": "display_data"
    }
   ],
   "source": [
    "# 아래에 실습코드를 작성하고 결과를 확인합니다.\n",
    "plt.figure(figsize = (20,4))\n",
    "sns.barplot('자치구','한식 일반 음식점업사업체수', data = seoul_business)"
   ]
  },
  {
   "cell_type": "code",
   "execution_count": 98,
   "id": "697ebcb0",
   "metadata": {},
   "outputs": [
    {
     "name": "stderr",
     "output_type": "stream",
     "text": [
      "c:\\Users\\User\\anaconda3\\lib\\site-packages\\seaborn\\_decorators.py:36: FutureWarning: Pass the following variables as keyword args: x, y. From version 0.12, the only valid positional argument will be `data`, and passing other arguments without an explicit keyword will result in an error or misinterpretation.\n",
      "  warnings.warn(\n"
     ]
    },
    {
     "data": {
      "text/plain": [
       "<AxesSubplot:xlabel='자치구', ylabel='기타주점업사업체수'>"
      ]
     },
     "execution_count": 98,
     "metadata": {},
     "output_type": "execute_result"
    },
    {
     "data": {
      "image/png": "[encoded data removed]",
      "text/plain": [
       "<Figure size 2000x400 with 1 Axes>"
      ]
     },
     "metadata": {},
     "output_type": "display_data"
    }
   ],
   "source": [
    "plt.figure(figsize = (20,4))\n",
    "sns.barplot('자치구','기타주점업사업체수', data = seoul_business)"
   ]
  },
  {
   "cell_type": "code",
   "execution_count": null,
   "id": "86892a60",
   "metadata": {},
   "outputs": [],
   "source": [
    "# 위 차트를 통해 알게된 사실을 정리해봅시다.\n",
    "# 1. \n",
    "# 2.\n",
    "# 3."
   ]
  },
  {
   "cell_type": "markdown",
   "id": "ca567b34",
   "metadata": {},
   "source": [
    "---"
   ]
  }
 ],
 "metadata": {
  "kernelspec": {
   "display_name": "Python 3",
   "language": "python",
   "name": "python3"
  },
  "language_info": {
   "codemirror_mode": {
    "name": "ipython",
    "version": 3
   },
   "file_extension": ".py",
   "mimetype": "text/x-python",
   "name": "python",
   "nbconvert_exporter": "python",
   "pygments_lexer": "ipython3",
   "version": "3.9.13"
  },
  "vscode": {
   "interpreter": {
    "hash": "f08154012ddadd8e950e6e9e035c7a7b32c136e7647e9b7c77e02eb723a8bedb"
   }
  }
 },
 "nbformat": 4,
 "nbformat_minor": 5
}
